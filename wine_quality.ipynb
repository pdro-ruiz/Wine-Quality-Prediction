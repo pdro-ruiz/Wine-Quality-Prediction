{
 "cells": [
  {
   "cell_type": "markdown",
   "metadata": {},
   "source": [
    "<p align=\"center\">\n",
    "  <img src=\"assets/wine_quality.jpg\" alt=\"wine quality\">\n",
    "</p>"
   ]
  },
  {
   "cell_type": "markdown",
   "metadata": {},
   "source": [
    "# Wine quality prediction through Machine Learning\n",
    "\n",
    "---\n",
    "\n",
    "Welcome to this new data analysis. In this notebook, we are going to explore a well-known dataset in the Data Science community: the wine quality dataset. This dataset contains a number of chemical characteristics of different wines, along with a quality rating for each.\n",
    "\n",
    "The goal of our analysis is to develop a Machine Learning model that can predict wine quality based on these characteristics. These types of models can be extremely useful in the wine industry, allowing producers to predict and optimize the quality of their products.\n",
    "\n",
    "Throughout this notebook, we will attempt to perform an exploratory analysis of the data, prepare the data for modeling, train several Machine Learning models and evaluate their performance. \n",
    "\n",
    "We hope you find this analysis interesting and useful - let's get started!"
   ]
  },
  {
   "cell_type": "markdown",
   "metadata": {},
   "source": [
    "## Importing libraries and datasets \n",
    "\n",
    "Next, we will import all the libraries needed for our analysis and modeling:\n",
    "\n",
    "- `numpy`: Provides us with a variety of routines for fast matrix and mathematical operations.\n",
    "- `pandas`: Provides high-performance, easy-to-use data structures and analysis tools.\n",
    "- `matplotlib` and `seaborn`: will be used to visualize the data. They will help us to better understand the characteristics and distribution of the data.\n",
    "- `sklearn`: It is a module with several libraries installed, we will be interested in working with various models and means of evaluation.\n",
    "- `XGBoost`: It is an optimized gradient boosting library. We will use its classifier."
   ]
  },
  {
   "cell_type": "code",
   "execution_count": 1,
   "metadata": {},
   "outputs": [],
   "source": [
    "import numpy as np\n",
    "import pandas as pd\n",
    "import matplotlib.pyplot as plt\n",
    "import seaborn as sns\n",
    "\n",
    "\n",
    "from sklearn.impute import KNNImputer\n",
    "from sklearn.preprocessing import LabelEncoder\n",
    "from sklearn.model_selection import train_test_split\n",
    "from sklearn.preprocessing import MinMaxScaler\n",
    "from sklearn import metrics\n",
    "from sklearn.linear_model import LogisticRegression\n",
    "from xgboost import XGBClassifier\n",
    "from sklearn.svm import SVC\n",
    "from sklearn.metrics import confusion_matrix\n"
   ]
  },
  {
   "cell_type": "markdown",
   "metadata": {},
   "source": [
    "Now that we have imported the necessary libraries, the next step is to import our dataset."
   ]
  },
  {
   "cell_type": "code",
   "execution_count": 2,
   "metadata": {},
   "outputs": [],
   "source": [
    "df = pd.read_csv('data/winequalityN.csv')"
   ]
  },
  {
   "cell_type": "markdown",
   "metadata": {},
   "source": [
    "## Initial exploration of the data\n",
    "\n",
    "Once we have imported the dataset, we can take a look at the first few rows to get an idea of the information it contains."
   ]
  },
  {
   "cell_type": "code",
   "execution_count": 3,
   "metadata": {},
   "outputs": [
    {
     "name": "stdout",
     "output_type": "stream",
     "text": [
      "    type  fixed acidity  volatile acidity  citric acid  residual sugar  \\\n",
      "0  white            7.0              0.27         0.36            20.7   \n",
      "1  white            6.3              0.30         0.34             1.6   \n",
      "2  white            8.1              0.28         0.40             6.9   \n",
      "3  white            7.2              0.23         0.32             8.5   \n",
      "4  white            7.2              0.23         0.32             8.5   \n",
      "\n",
      "   chlorides  free sulfur dioxide  total sulfur dioxide  density    pH  \\\n",
      "0      0.045                 45.0                 170.0   1.0010  3.00   \n",
      "1      0.049                 14.0                 132.0   0.9940  3.30   \n",
      "2      0.050                 30.0                  97.0   0.9951  3.26   \n",
      "3      0.058                 47.0                 186.0   0.9956  3.19   \n",
      "4      0.058                 47.0                 186.0   0.9956  3.19   \n",
      "\n",
      "   sulphates  alcohol  quality  \n",
      "0       0.45      8.8        6  \n",
      "1       0.49      9.5        6  \n",
      "2       0.44     10.1        6  \n",
      "3       0.40      9.9        6  \n",
      "4       0.40      9.9        6  \n"
     ]
    }
   ],
   "source": [
    "print(df.head())"
   ]
  },
  {
   "cell_type": "markdown",
   "metadata": {},
   "source": [
    "As we can see, each row represents a different wine, and the columns represent the characteristics of that wine, including its type (white or red), various chemical attributes, and a quality rating:\n",
    "\n",
    "1. `type`: Refers to the type of wine. In our dataset, all 6497 wines have a specified type (white or red).\n",
    "2. `fixed acidity`: Refers to acids that do not evaporate easily.\n",
    "3. `volatile acidity`: This is a measure of the amount of volatile or gaseous acids in the wine.\n",
    "4. `citric acid`: One of the main acids present in grapes.\n",
    "5. `residual sugar`: Refers to the amount of sugar remaining after fermentation has finished. \n",
    "6. `chlorides`: The amount of salt in the wine.\n",
    "7. `free sulfur dioxide`: Sulfur dioxide is used in winemaking to prevent the growth of microorganisms and oxidation of the wine.\n",
    "total sulfur dioxide: The sum of free sulfur dioxide and bound sulfur dioxide.\n",
    "9. `density`: A measure of the amount of mass per unit volume in the wine.\n",
    "10. `pH`: A measure of the acidity or alkalinity of the wine.\n",
    "11. `sulphates`: Sulfates in wine can contribute to sulfur dioxide levels.\n",
    "12. `alcohol`: The alcoholic volume content of wine.\n",
    "13. `quality`: A measure of the quality of the wine, to be rated with a score from 1 to 9."
   ]
  },
  {
   "cell_type": "code",
   "execution_count": 4,
   "metadata": {},
   "outputs": [
    {
     "name": "stdout",
     "output_type": "stream",
     "text": [
      "<class 'pandas.core.frame.DataFrame'>\n",
      "RangeIndex: 6497 entries, 0 to 6496\n",
      "Data columns (total 13 columns):\n",
      " #   Column                Non-Null Count  Dtype  \n",
      "---  ------                --------------  -----  \n",
      " 0   type                  6497 non-null   object \n",
      " 1   fixed acidity         6487 non-null   float64\n",
      " 2   volatile acidity      6489 non-null   float64\n",
      " 3   citric acid           6494 non-null   float64\n",
      " 4   residual sugar        6495 non-null   float64\n",
      " 5   chlorides             6495 non-null   float64\n",
      " 6   free sulfur dioxide   6497 non-null   float64\n",
      " 7   total sulfur dioxide  6497 non-null   float64\n",
      " 8   density               6497 non-null   float64\n",
      " 9   pH                    6488 non-null   float64\n",
      " 10  sulphates             6493 non-null   float64\n",
      " 11  alcohol               6497 non-null   float64\n",
      " 12  quality               6497 non-null   int64  \n",
      "dtypes: float64(11), int64(1), object(1)\n",
      "memory usage: 660.0+ KB\n"
     ]
    }
   ],
   "source": [
    "df.info()"
   ]
  },
  {
   "cell_type": "code",
   "execution_count": 5,
   "metadata": {},
   "outputs": [
    {
     "data": {
      "text/html": [
       "<div>\n",
       "<style scoped>\n",
       "    .dataframe tbody tr th:only-of-type {\n",
       "        vertical-align: middle;\n",
       "    }\n",
       "\n",
       "    .dataframe tbody tr th {\n",
       "        vertical-align: top;\n",
       "    }\n",
       "\n",
       "    .dataframe thead th {\n",
       "        text-align: right;\n",
       "    }\n",
       "</style>\n",
       "<table border=\"1\" class=\"dataframe\">\n",
       "  <thead>\n",
       "    <tr style=\"text-align: right;\">\n",
       "      <th></th>\n",
       "      <th>fixed acidity</th>\n",
       "      <th>volatile acidity</th>\n",
       "      <th>citric acid</th>\n",
       "      <th>residual sugar</th>\n",
       "      <th>chlorides</th>\n",
       "      <th>free sulfur dioxide</th>\n",
       "      <th>total sulfur dioxide</th>\n",
       "      <th>density</th>\n",
       "      <th>pH</th>\n",
       "      <th>sulphates</th>\n",
       "      <th>alcohol</th>\n",
       "      <th>quality</th>\n",
       "    </tr>\n",
       "  </thead>\n",
       "  <tbody>\n",
       "    <tr>\n",
       "      <th>count</th>\n",
       "      <td>6487.000000</td>\n",
       "      <td>6489.000000</td>\n",
       "      <td>6494.000000</td>\n",
       "      <td>6495.000000</td>\n",
       "      <td>6495.000000</td>\n",
       "      <td>6497.000000</td>\n",
       "      <td>6497.000000</td>\n",
       "      <td>6497.000000</td>\n",
       "      <td>6488.000000</td>\n",
       "      <td>6493.000000</td>\n",
       "      <td>6497.000000</td>\n",
       "      <td>6497.000000</td>\n",
       "    </tr>\n",
       "    <tr>\n",
       "      <th>mean</th>\n",
       "      <td>7.216579</td>\n",
       "      <td>0.339691</td>\n",
       "      <td>0.318722</td>\n",
       "      <td>5.444326</td>\n",
       "      <td>0.056042</td>\n",
       "      <td>30.525319</td>\n",
       "      <td>115.744574</td>\n",
       "      <td>0.994697</td>\n",
       "      <td>3.218395</td>\n",
       "      <td>0.531215</td>\n",
       "      <td>10.491801</td>\n",
       "      <td>5.818378</td>\n",
       "    </tr>\n",
       "    <tr>\n",
       "      <th>std</th>\n",
       "      <td>1.296750</td>\n",
       "      <td>0.164649</td>\n",
       "      <td>0.145265</td>\n",
       "      <td>4.758125</td>\n",
       "      <td>0.035036</td>\n",
       "      <td>17.749400</td>\n",
       "      <td>56.521855</td>\n",
       "      <td>0.002999</td>\n",
       "      <td>0.160748</td>\n",
       "      <td>0.148814</td>\n",
       "      <td>1.192712</td>\n",
       "      <td>0.873255</td>\n",
       "    </tr>\n",
       "    <tr>\n",
       "      <th>min</th>\n",
       "      <td>3.800000</td>\n",
       "      <td>0.080000</td>\n",
       "      <td>0.000000</td>\n",
       "      <td>0.600000</td>\n",
       "      <td>0.009000</td>\n",
       "      <td>1.000000</td>\n",
       "      <td>6.000000</td>\n",
       "      <td>0.987110</td>\n",
       "      <td>2.720000</td>\n",
       "      <td>0.220000</td>\n",
       "      <td>8.000000</td>\n",
       "      <td>3.000000</td>\n",
       "    </tr>\n",
       "    <tr>\n",
       "      <th>25%</th>\n",
       "      <td>6.400000</td>\n",
       "      <td>0.230000</td>\n",
       "      <td>0.250000</td>\n",
       "      <td>1.800000</td>\n",
       "      <td>0.038000</td>\n",
       "      <td>17.000000</td>\n",
       "      <td>77.000000</td>\n",
       "      <td>0.992340</td>\n",
       "      <td>3.110000</td>\n",
       "      <td>0.430000</td>\n",
       "      <td>9.500000</td>\n",
       "      <td>5.000000</td>\n",
       "    </tr>\n",
       "    <tr>\n",
       "      <th>50%</th>\n",
       "      <td>7.000000</td>\n",
       "      <td>0.290000</td>\n",
       "      <td>0.310000</td>\n",
       "      <td>3.000000</td>\n",
       "      <td>0.047000</td>\n",
       "      <td>29.000000</td>\n",
       "      <td>118.000000</td>\n",
       "      <td>0.994890</td>\n",
       "      <td>3.210000</td>\n",
       "      <td>0.510000</td>\n",
       "      <td>10.300000</td>\n",
       "      <td>6.000000</td>\n",
       "    </tr>\n",
       "    <tr>\n",
       "      <th>75%</th>\n",
       "      <td>7.700000</td>\n",
       "      <td>0.400000</td>\n",
       "      <td>0.390000</td>\n",
       "      <td>8.100000</td>\n",
       "      <td>0.065000</td>\n",
       "      <td>41.000000</td>\n",
       "      <td>156.000000</td>\n",
       "      <td>0.996990</td>\n",
       "      <td>3.320000</td>\n",
       "      <td>0.600000</td>\n",
       "      <td>11.300000</td>\n",
       "      <td>6.000000</td>\n",
       "    </tr>\n",
       "    <tr>\n",
       "      <th>max</th>\n",
       "      <td>15.900000</td>\n",
       "      <td>1.580000</td>\n",
       "      <td>1.660000</td>\n",
       "      <td>65.800000</td>\n",
       "      <td>0.611000</td>\n",
       "      <td>289.000000</td>\n",
       "      <td>440.000000</td>\n",
       "      <td>1.038980</td>\n",
       "      <td>4.010000</td>\n",
       "      <td>2.000000</td>\n",
       "      <td>14.900000</td>\n",
       "      <td>9.000000</td>\n",
       "    </tr>\n",
       "  </tbody>\n",
       "</table>\n",
       "</div>"
      ],
      "text/plain": [
       "       fixed acidity  volatile acidity  citric acid  residual sugar  \\\n",
       "count    6487.000000       6489.000000  6494.000000     6495.000000   \n",
       "mean        7.216579          0.339691     0.318722        5.444326   \n",
       "std         1.296750          0.164649     0.145265        4.758125   \n",
       "min         3.800000          0.080000     0.000000        0.600000   \n",
       "25%         6.400000          0.230000     0.250000        1.800000   \n",
       "50%         7.000000          0.290000     0.310000        3.000000   \n",
       "75%         7.700000          0.400000     0.390000        8.100000   \n",
       "max        15.900000          1.580000     1.660000       65.800000   \n",
       "\n",
       "         chlorides  free sulfur dioxide  total sulfur dioxide      density  \\\n",
       "count  6495.000000          6497.000000           6497.000000  6497.000000   \n",
       "mean      0.056042            30.525319            115.744574     0.994697   \n",
       "std       0.035036            17.749400             56.521855     0.002999   \n",
       "min       0.009000             1.000000              6.000000     0.987110   \n",
       "25%       0.038000            17.000000             77.000000     0.992340   \n",
       "50%       0.047000            29.000000            118.000000     0.994890   \n",
       "75%       0.065000            41.000000            156.000000     0.996990   \n",
       "max       0.611000           289.000000            440.000000     1.038980   \n",
       "\n",
       "                pH    sulphates      alcohol      quality  \n",
       "count  6488.000000  6493.000000  6497.000000  6497.000000  \n",
       "mean      3.218395     0.531215    10.491801     5.818378  \n",
       "std       0.160748     0.148814     1.192712     0.873255  \n",
       "min       2.720000     0.220000     8.000000     3.000000  \n",
       "25%       3.110000     0.430000     9.500000     5.000000  \n",
       "50%       3.210000     0.510000    10.300000     6.000000  \n",
       "75%       3.320000     0.600000    11.300000     6.000000  \n",
       "max       4.010000     2.000000    14.900000     9.000000  "
      ]
     },
     "execution_count": 5,
     "metadata": {},
     "output_type": "execute_result"
    }
   ],
   "source": [
    "df.describe()"
   ]
  },
  {
   "cell_type": "markdown",
   "metadata": {},
   "source": [
    "The `describe()` method provides us with a statistical overview that allows us to make some initial observations:\n",
    "\n",
    "1. As for `fixed acidity`, most wines are between 6.4 and 7.7 g/dm³. However, there are some that reach up to 15.9 g/dm³, which indicates a rather high acidity.\n",
    "2. The average `volatile acidity` is 0.34 g/dm³, but there are wines that reach up to 1.58 g/dm³. This could suggest a strongly vinegary flavor in some cases.\n",
    "3. Regarding `citric acid`, most wines have a content ranging from 0.25 to 0.39 g/dm³, although some reach 1.66 g/dm³.\n",
    "4. Some wines have a fairly high `residual sugar`, reaching up to 65.8 g/dm³, which could translate into very sweet flavors.\n",
    "5. Regarding `chlorides`, most wines have a content between 0.038 and 0.065 g/dm³. However, there are wines with up to 0.611 g/dm³, which could result in salty flavors.\n",
    "6. Some wines show a `free sulfur dioxide` of up to 289 mg/dm³, which could indicate better preservation and longer shelf life.\n",
    "7. As for `total sulfur dioxide`, there are wines reaching up to 440 mg/dm³, which could also suggest better conservation and longer shelf life.\n",
    "8. Most wines have a `density` between 0.9923 and 0.9970 g/cm³, but some go up to 1.039 g/cm³.\n",
    "9. In terms of `pH`, most wines are between 3.11 and 3.32. However, some reach a pH of up to 4.01, which could indicate a more bitter taste.\n",
    "10. We have wines with a `sulfate` content of up to 2.00 g/dm³, which could indicate better conservation and longer shelf life.\n",
    "11. Most wines have an `alcohol` content between 9.5% and 11.3%, but some wines reach up to 14.9%.\n",
    "12. In terms of `quality`, the wines in this data set range from 3 to 9, with a mean of 5.8 and a median of 6. This suggests that most of the wines are of medium to good quality."
   ]
  },
  {
   "cell_type": "markdown",
   "metadata": {},
   "source": [
    "## Data preparation\n",
    "\n",
    "In this section, we will focus on preparing our data for analysis and modeling. \n",
    "\n",
    "Data preparation is a crucial step. It includes cleaning the data, dealing with missing values, converting categorical variables into a format that ML models can understand, and sometimes creating new variables from existing ones. This process can have a major impact on the quality of the final results, as the models depend heavily on the quality of the input data."
   ]
  },
  {
   "cell_type": "markdown",
   "metadata": {},
   "source": [
    "### - Data preprocessing\n",
    "\n",
    "We will work with `LabelEncoder` to convert `type` categorical labels into a numerical form interpretable by the model."
   ]
  },
  {
   "cell_type": "code",
   "execution_count": 6,
   "metadata": {},
   "outputs": [],
   "source": [
    "encoder = LabelEncoder()\n",
    "df['type'] = encoder.fit_transform(df['type'])"
   ]
  },
  {
   "cell_type": "markdown",
   "metadata": {},
   "source": [
    "### - Treatment of null values\n",
    "\n",
    "We will now proceed to identify and properly treat null or missing values."
   ]
  },
  {
   "cell_type": "code",
   "execution_count": 7,
   "metadata": {},
   "outputs": [
    {
     "data": {
      "text/plain": [
       "type                     0\n",
       "fixed acidity           10\n",
       "volatile acidity         8\n",
       "citric acid              3\n",
       "residual sugar           2\n",
       "chlorides                2\n",
       "free sulfur dioxide      0\n",
       "total sulfur dioxide     0\n",
       "density                  0\n",
       "pH                       9\n",
       "sulphates                4\n",
       "alcohol                  0\n",
       "quality                  0\n",
       "dtype: int64"
      ]
     },
     "execution_count": 7,
     "metadata": {},
     "output_type": "execute_result"
    }
   ],
   "source": [
    "df.isnull().sum()"
   ]
  },
  {
   "cell_type": "markdown",
   "metadata": {},
   "source": [
    "A common strategy used is to replace the null values with the mean of the non-null values in the same column. However, this strategy may not be ideal if the data is skewed or if there are outliers, as these may distort the mean.\n",
    "\n",
    "Therefore, in this case, I am considering using the k-Nearest Neighbors (k-NN) method to impute the null values. \n",
    "\n",
    "The k-NN method identifies the 'k' data points closest to the observation with the null value and uses these data points to impute the value. The advantage of using k-NN over the mean is that it can capture more complex patterns in the data, which can result in more accurate imputation."
   ]
  },
  {
   "cell_type": "code",
   "execution_count": 8,
   "metadata": {},
   "outputs": [
    {
     "data": {
      "text/plain": [
       "type                    0\n",
       "fixed acidity           0\n",
       "volatile acidity        0\n",
       "citric acid             0\n",
       "residual sugar          0\n",
       "chlorides               0\n",
       "free sulfur dioxide     0\n",
       "total sulfur dioxide    0\n",
       "density                 0\n",
       "pH                      0\n",
       "sulphates               0\n",
       "alcohol                 0\n",
       "quality                 0\n",
       "dtype: int64"
      ]
     },
     "execution_count": 8,
     "metadata": {},
     "output_type": "execute_result"
    }
   ],
   "source": [
    "imputer = KNNImputer(n_neighbors=5)\n",
    "\n",
    "df = pd.DataFrame(imputer.fit_transform(df), columns=df.columns)\n",
    "\n",
    "df.isnull().sum()"
   ]
  },
  {
   "cell_type": "markdown",
   "metadata": {},
   "source": [
    "## Graphing the data\n",
    "\n",
    "We are now going to visualize our data to get a better understanding of the characteristics and their relationship to our target variable, which is `quality`.\n",
    "\n",
    "Wine quality is our main concern in this analysis, as we are interested in predicting how different chemical characteristics of the wine may influence its quality. By focusing on this characteristic, we can identify which factors contribute most to a high quality wine and use this information to improve wine production in the future."
   ]
  },
  {
   "cell_type": "code",
   "execution_count": 9,
   "metadata": {},
   "outputs": [
    {
     "data": {
      "image/png": "[encoded data removed]",
      "text/plain": [
       "<Figure size 1900x700 with 1 Axes>"
      ]
     },
     "metadata": {},
     "output_type": "display_data"
    }
   ],
   "source": [
    "plt.figure(figsize=(19, 7))\n",
    "\n",
    "sns.countplot(x='quality', data=df, palette='coolwarm')\n",
    "plt.xlabel('Quality')\n",
    "plt.ylabel('')\n",
    "plt.title('Distribution of Quality' , fontsize=20)\n",
    "\n",
    "plt.show()"
   ]
  },
  {
   "cell_type": "markdown",
   "metadata": {},
   "source": [
    "**Distribution of Quality**.\n",
    "\n",
    "Most of the wines in the sample have a quality rating between 5 and 6, with 6 being the most common. Therefore, we could say that the quality of the wines is normal, leaning towards good.\n",
    "\n",
    "On the other hand, the data show us that very few wines are able to achieve the highest rating. This could indicate that obtaining a higher quality rating requires exceptional conditions."
   ]
  },
  {
   "cell_type": "code",
   "execution_count": 10,
   "metadata": {},
   "outputs": [
    {
     "data": {
      "image/png": "[encoded data removed]",
      "text/plain": [
       "<Figure size 1900x700 with 1 Axes>"
      ]
     },
     "metadata": {},
     "output_type": "display_data"
    }
   ],
   "source": [
    "type_sum = df['type'].value_counts()\n",
    "\n",
    "plt.figure(figsize=(19, 7))\n",
    "\n",
    "plt.bar(type_sum.index, type_sum.values, color=['lightyellow', 'salmon'])\n",
    "plt.xticks(type_sum.index, ['White', 'Red'])\n",
    "plt.title('Distribution of Type' , fontsize=20)\n",
    "\n",
    "plt.show()"
   ]
  },
  {
   "cell_type": "markdown",
   "metadata": {},
   "source": [
    "**Distribution of Type of wine**.\n",
    "\n",
    "In this bar chart, we can see that the vast majority of the wines in the data set are white wines."
   ]
  },
  {
   "cell_type": "code",
   "execution_count": 11,
   "metadata": {},
   "outputs": [
    {
     "data": {
      "image/png": "[encoded data removed]",
      "text/plain": [
       "<Figure size 1900x700 with 1 Axes>"
      ]
     },
     "metadata": {},
     "output_type": "display_data"
    }
   ],
   "source": [
    "plt.figure(figsize=(19, 7))\n",
    "\n",
    "sns.boxplot(x=df['alcohol'], color='skyblue')\n",
    "plt.title('Distribution of Alcohol', fontsize=20)\n",
    "plt.xlabel('')\n",
    "\n",
    "plt.show()"
   ]
  },
  {
   "cell_type": "markdown",
   "metadata": {},
   "source": [
    "**Distribution of Alcohol**.\n",
    "\n",
    "We can observe that most of the wines have an alcohol volume of around 10%, although we can also observe some out-of-range data with much higher alcohol volumes."
   ]
  },
  {
   "cell_type": "code",
   "execution_count": 12,
   "metadata": {},
   "outputs": [
    {
     "data": {
      "text/html": [
       "<div>\n",
       "<style scoped>\n",
       "    .dataframe tbody tr th:only-of-type {\n",
       "        vertical-align: middle;\n",
       "    }\n",
       "\n",
       "    .dataframe tbody tr th {\n",
       "        vertical-align: top;\n",
       "    }\n",
       "\n",
       "    .dataframe thead th {\n",
       "        text-align: right;\n",
       "    }\n",
       "</style>\n",
       "<table border=\"1\" class=\"dataframe\">\n",
       "  <thead>\n",
       "    <tr style=\"text-align: right;\">\n",
       "      <th></th>\n",
       "      <th>type</th>\n",
       "      <th>fixed acidity</th>\n",
       "      <th>volatile acidity</th>\n",
       "      <th>citric acid</th>\n",
       "      <th>residual sugar</th>\n",
       "      <th>chlorides</th>\n",
       "      <th>free sulfur dioxide</th>\n",
       "      <th>total sulfur dioxide</th>\n",
       "      <th>density</th>\n",
       "      <th>pH</th>\n",
       "      <th>sulphates</th>\n",
       "      <th>alcohol</th>\n",
       "      <th>quality</th>\n",
       "    </tr>\n",
       "  </thead>\n",
       "  <tbody>\n",
       "    <tr>\n",
       "      <th>type</th>\n",
       "      <td>1.000000</td>\n",
       "      <td>-0.487335</td>\n",
       "      <td>-0.652704</td>\n",
       "      <td>0.187418</td>\n",
       "      <td>0.349100</td>\n",
       "      <td>-0.512591</td>\n",
       "      <td>0.471644</td>\n",
       "      <td>0.700357</td>\n",
       "      <td>-0.390645</td>\n",
       "      <td>-0.328700</td>\n",
       "      <td>-0.487137</td>\n",
       "      <td>0.032970</td>\n",
       "      <td>0.119323</td>\n",
       "    </tr>\n",
       "    <tr>\n",
       "      <th>fixed acidity</th>\n",
       "      <td>-0.487335</td>\n",
       "      <td>1.000000</td>\n",
       "      <td>0.220327</td>\n",
       "      <td>0.323095</td>\n",
       "      <td>-0.112560</td>\n",
       "      <td>0.298228</td>\n",
       "      <td>-0.283425</td>\n",
       "      <td>-0.329770</td>\n",
       "      <td>0.458927</td>\n",
       "      <td>-0.251581</td>\n",
       "      <td>0.299817</td>\n",
       "      <td>-0.095572</td>\n",
       "      <td>-0.077063</td>\n",
       "    </tr>\n",
       "    <tr>\n",
       "      <th>volatile acidity</th>\n",
       "      <td>-0.652704</td>\n",
       "      <td>0.220327</td>\n",
       "      <td>1.000000</td>\n",
       "      <td>-0.378097</td>\n",
       "      <td>-0.196714</td>\n",
       "      <td>0.377095</td>\n",
       "      <td>-0.352873</td>\n",
       "      <td>-0.414744</td>\n",
       "      <td>0.271215</td>\n",
       "      <td>0.260875</td>\n",
       "      <td>0.225560</td>\n",
       "      <td>-0.038108</td>\n",
       "      <td>-0.265762</td>\n",
       "    </tr>\n",
       "    <tr>\n",
       "      <th>citric acid</th>\n",
       "      <td>0.187418</td>\n",
       "      <td>0.323095</td>\n",
       "      <td>-0.378097</td>\n",
       "      <td>1.000000</td>\n",
       "      <td>0.142636</td>\n",
       "      <td>0.039113</td>\n",
       "      <td>0.133286</td>\n",
       "      <td>0.195378</td>\n",
       "      <td>0.096266</td>\n",
       "      <td>-0.329012</td>\n",
       "      <td>0.056436</td>\n",
       "      <td>-0.010597</td>\n",
       "      <td>0.085565</td>\n",
       "    </tr>\n",
       "    <tr>\n",
       "      <th>residual sugar</th>\n",
       "      <td>0.349100</td>\n",
       "      <td>-0.112560</td>\n",
       "      <td>-0.196714</td>\n",
       "      <td>0.142636</td>\n",
       "      <td>1.000000</td>\n",
       "      <td>-0.129024</td>\n",
       "      <td>0.403654</td>\n",
       "      <td>0.495907</td>\n",
       "      <td>0.552309</td>\n",
       "      <td>-0.267287</td>\n",
       "      <td>-0.185841</td>\n",
       "      <td>-0.359853</td>\n",
       "      <td>-0.036578</td>\n",
       "    </tr>\n",
       "    <tr>\n",
       "      <th>chlorides</th>\n",
       "      <td>-0.512591</td>\n",
       "      <td>0.298228</td>\n",
       "      <td>0.377095</td>\n",
       "      <td>0.039113</td>\n",
       "      <td>-0.129024</td>\n",
       "      <td>1.000000</td>\n",
       "      <td>-0.194740</td>\n",
       "      <td>-0.279413</td>\n",
       "      <td>0.362497</td>\n",
       "      <td>0.045079</td>\n",
       "      <td>0.395214</td>\n",
       "      <td>-0.256749</td>\n",
       "      <td>-0.200604</td>\n",
       "    </tr>\n",
       "    <tr>\n",
       "      <th>free sulfur dioxide</th>\n",
       "      <td>0.471644</td>\n",
       "      <td>-0.283425</td>\n",
       "      <td>-0.352873</td>\n",
       "      <td>0.133286</td>\n",
       "      <td>0.403654</td>\n",
       "      <td>-0.194740</td>\n",
       "      <td>1.000000</td>\n",
       "      <td>0.720934</td>\n",
       "      <td>0.025717</td>\n",
       "      <td>-0.145308</td>\n",
       "      <td>-0.188381</td>\n",
       "      <td>-0.179838</td>\n",
       "      <td>0.055463</td>\n",
       "    </tr>\n",
       "    <tr>\n",
       "      <th>total sulfur dioxide</th>\n",
       "      <td>0.700357</td>\n",
       "      <td>-0.329770</td>\n",
       "      <td>-0.414744</td>\n",
       "      <td>0.195378</td>\n",
       "      <td>0.495907</td>\n",
       "      <td>-0.279413</td>\n",
       "      <td>0.720934</td>\n",
       "      <td>1.000000</td>\n",
       "      <td>0.032395</td>\n",
       "      <td>-0.237812</td>\n",
       "      <td>-0.275648</td>\n",
       "      <td>-0.265740</td>\n",
       "      <td>-0.041385</td>\n",
       "    </tr>\n",
       "    <tr>\n",
       "      <th>density</th>\n",
       "      <td>-0.390645</td>\n",
       "      <td>0.458927</td>\n",
       "      <td>0.271215</td>\n",
       "      <td>0.096266</td>\n",
       "      <td>0.552309</td>\n",
       "      <td>0.362497</td>\n",
       "      <td>0.025717</td>\n",
       "      <td>0.032395</td>\n",
       "      <td>1.000000</td>\n",
       "      <td>0.011373</td>\n",
       "      <td>0.259424</td>\n",
       "      <td>-0.686745</td>\n",
       "      <td>-0.305858</td>\n",
       "    </tr>\n",
       "    <tr>\n",
       "      <th>pH</th>\n",
       "      <td>-0.328700</td>\n",
       "      <td>-0.251581</td>\n",
       "      <td>0.260875</td>\n",
       "      <td>-0.329012</td>\n",
       "      <td>-0.267287</td>\n",
       "      <td>0.045079</td>\n",
       "      <td>-0.145308</td>\n",
       "      <td>-0.237812</td>\n",
       "      <td>0.011373</td>\n",
       "      <td>1.000000</td>\n",
       "      <td>0.191805</td>\n",
       "      <td>0.121277</td>\n",
       "      <td>0.019817</td>\n",
       "    </tr>\n",
       "    <tr>\n",
       "      <th>sulphates</th>\n",
       "      <td>-0.487137</td>\n",
       "      <td>0.299817</td>\n",
       "      <td>0.225560</td>\n",
       "      <td>0.056436</td>\n",
       "      <td>-0.185841</td>\n",
       "      <td>0.395214</td>\n",
       "      <td>-0.188381</td>\n",
       "      <td>-0.275648</td>\n",
       "      <td>0.259424</td>\n",
       "      <td>0.191805</td>\n",
       "      <td>1.000000</td>\n",
       "      <td>-0.003051</td>\n",
       "      <td>0.038602</td>\n",
       "    </tr>\n",
       "    <tr>\n",
       "      <th>alcohol</th>\n",
       "      <td>0.032970</td>\n",
       "      <td>-0.095572</td>\n",
       "      <td>-0.038108</td>\n",
       "      <td>-0.010597</td>\n",
       "      <td>-0.359853</td>\n",
       "      <td>-0.256749</td>\n",
       "      <td>-0.179838</td>\n",
       "      <td>-0.265740</td>\n",
       "      <td>-0.686745</td>\n",
       "      <td>0.121277</td>\n",
       "      <td>-0.003051</td>\n",
       "      <td>1.000000</td>\n",
       "      <td>0.444319</td>\n",
       "    </tr>\n",
       "    <tr>\n",
       "      <th>quality</th>\n",
       "      <td>0.119323</td>\n",
       "      <td>-0.077063</td>\n",
       "      <td>-0.265762</td>\n",
       "      <td>0.085565</td>\n",
       "      <td>-0.036578</td>\n",
       "      <td>-0.200604</td>\n",
       "      <td>0.055463</td>\n",
       "      <td>-0.041385</td>\n",
       "      <td>-0.305858</td>\n",
       "      <td>0.019817</td>\n",
       "      <td>0.038602</td>\n",
       "      <td>0.444319</td>\n",
       "      <td>1.000000</td>\n",
       "    </tr>\n",
       "  </tbody>\n",
       "</table>\n",
       "</div>"
      ],
      "text/plain": [
       "                          type  fixed acidity  volatile acidity  citric acid  \\\n",
       "type                  1.000000      -0.487335         -0.652704     0.187418   \n",
       "fixed acidity        -0.487335       1.000000          0.220327     0.323095   \n",
       "volatile acidity     -0.652704       0.220327          1.000000    -0.378097   \n",
       "citric acid           0.187418       0.323095         -0.378097     1.000000   \n",
       "residual sugar        0.349100      -0.112560         -0.196714     0.142636   \n",
       "chlorides            -0.512591       0.298228          0.377095     0.039113   \n",
       "free sulfur dioxide   0.471644      -0.283425         -0.352873     0.133286   \n",
       "total sulfur dioxide  0.700357      -0.329770         -0.414744     0.195378   \n",
       "density              -0.390645       0.458927          0.271215     0.096266   \n",
       "pH                   -0.328700      -0.251581          0.260875    -0.329012   \n",
       "sulphates            -0.487137       0.299817          0.225560     0.056436   \n",
       "alcohol               0.032970      -0.095572         -0.038108    -0.010597   \n",
       "quality               0.119323      -0.077063         -0.265762     0.085565   \n",
       "\n",
       "                      residual sugar  chlorides  free sulfur dioxide  \\\n",
       "type                        0.349100  -0.512591             0.471644   \n",
       "fixed acidity              -0.112560   0.298228            -0.283425   \n",
       "volatile acidity           -0.196714   0.377095            -0.352873   \n",
       "citric acid                 0.142636   0.039113             0.133286   \n",
       "residual sugar              1.000000  -0.129024             0.403654   \n",
       "chlorides                  -0.129024   1.000000            -0.194740   \n",
       "free sulfur dioxide         0.403654  -0.194740             1.000000   \n",
       "total sulfur dioxide        0.495907  -0.279413             0.720934   \n",
       "density                     0.552309   0.362497             0.025717   \n",
       "pH                         -0.267287   0.045079            -0.145308   \n",
       "sulphates                  -0.185841   0.395214            -0.188381   \n",
       "alcohol                    -0.359853  -0.256749            -0.179838   \n",
       "quality                    -0.036578  -0.200604             0.055463   \n",
       "\n",
       "                      total sulfur dioxide   density        pH  sulphates  \\\n",
       "type                              0.700357 -0.390645 -0.328700  -0.487137   \n",
       "fixed acidity                    -0.329770  0.458927 -0.251581   0.299817   \n",
       "volatile acidity                 -0.414744  0.271215  0.260875   0.225560   \n",
       "citric acid                       0.195378  0.096266 -0.329012   0.056436   \n",
       "residual sugar                    0.495907  0.552309 -0.267287  -0.185841   \n",
       "chlorides                        -0.279413  0.362497  0.045079   0.395214   \n",
       "free sulfur dioxide               0.720934  0.025717 -0.145308  -0.188381   \n",
       "total sulfur dioxide              1.000000  0.032395 -0.237812  -0.275648   \n",
       "density                           0.032395  1.000000  0.011373   0.259424   \n",
       "pH                               -0.237812  0.011373  1.000000   0.191805   \n",
       "sulphates                        -0.275648  0.259424  0.191805   1.000000   \n",
       "alcohol                          -0.265740 -0.686745  0.121277  -0.003051   \n",
       "quality                          -0.041385 -0.305858  0.019817   0.038602   \n",
       "\n",
       "                       alcohol   quality  \n",
       "type                  0.032970  0.119323  \n",
       "fixed acidity        -0.095572 -0.077063  \n",
       "volatile acidity     -0.038108 -0.265762  \n",
       "citric acid          -0.010597  0.085565  \n",
       "residual sugar       -0.359853 -0.036578  \n",
       "chlorides            -0.256749 -0.200604  \n",
       "free sulfur dioxide  -0.179838  0.055463  \n",
       "total sulfur dioxide -0.265740 -0.041385  \n",
       "density              -0.686745 -0.305858  \n",
       "pH                    0.121277  0.019817  \n",
       "sulphates            -0.003051  0.038602  \n",
       "alcohol               1.000000  0.444319  \n",
       "quality               0.444319  1.000000  "
      ]
     },
     "execution_count": 12,
     "metadata": {},
     "output_type": "execute_result"
    }
   ],
   "source": [
    "corr = df.corr()\n",
    "corr"
   ]
  },
  {
   "cell_type": "markdown",
   "metadata": {},
   "source": [
    "**Correlation matrix**\n",
    "\n",
    "Now we will use a correlation matrix, its use will help us to understand the relationships between different characteristics. \n",
    "\n",
    "- `Total sulfur dioxide`: Although this variable has a strong correlation with the type of wine, its correlation with the quality of the wine is -0.04. This indicates that total sulfur dioxide does not have a significant impact on wine quality.\n",
    "- `Chlorides`: Chlorides have a negative correlation with quality of -0.20. This suggests that higher levels of chlorides may be associated with lower wine quality.\n",
    "- `sulphates`: Sulfates have a low correlation with wine quality, 0.04. Although the correlation is low, sulfates could have some impact on wine quality.\n",
    "- `Alcohol`: Alcohol has a moderate correlation with wine quality, 0.44, suggesting that wines with higher alcohol content tend to have higher quality.\n",
    "- `Volatile acidity`: Volatile acidity has a negative correlation with wine quality (-0.27). This suggests that wines with higher volatile acidity tend to have lower quality."
   ]
  },
  {
   "cell_type": "code",
   "execution_count": 13,
   "metadata": {},
   "outputs": [
    {
     "data": {
      "image/png": "[encoded data removed]",
      "text/plain": [
       "<Figure size 1900x700 with 1 Axes>"
      ]
     },
     "metadata": {},
     "output_type": "display_data"
    }
   ],
   "source": [
    "plt.figure(figsize=(19, 7))\n",
    "\n",
    "sns.violinplot(x='type', y='quality', data=df, palette='coolwarm', split=True)\n",
    "plt.xlabel('')\n",
    "plt.ylabel('')\n",
    "plt.title('Relationship between Type and Quality', fontsize=20)\n",
    "plt.xticks([0, 1], ['Red', 'White'])\n",
    "\n",
    "plt.show()\n"
   ]
  },
  {
   "cell_type": "markdown",
   "metadata": {},
   "source": [
    "**Relationship between Type and Quality**.\n",
    "\n",
    "The graph shows us that:\n",
    "\n",
    "1. The volume of low ratings is fairly even for both types of wine.\n",
    "2. There are more white wines rated with a quality of 6 and more red wines rated with a quality of 5.\n",
    "3. It is observed that white wines achieve better ratings.\n",
    "\n",
    "Therefore, we could determine that the production of white wine is somewhat superior in terms of quality."
   ]
  },
  {
   "cell_type": "code",
   "execution_count": 14,
   "metadata": {},
   "outputs": [
    {
     "data": {
      "image/png": "[encoded data removed]",
      "text/plain": [
       "<Figure size 1900x700 with 1 Axes>"
      ]
     },
     "metadata": {},
     "output_type": "display_data"
    }
   ],
   "source": [
    "plt.figure(figsize=(19, 7))\n",
    "\n",
    "plt.bar(df['quality'], df['alcohol'], color='skyblue')\n",
    "plt.xlabel('Quality')\n",
    "plt.ylabel('Alcohol')\n",
    "plt.title('Relationship between Alcohol and Quality', fontsize=20)\n",
    "\n",
    "plt.show()"
   ]
  },
  {
   "cell_type": "markdown",
   "metadata": {},
   "source": [
    "**Relationship between Alcohol and Quality**.\n",
    "\n",
    "Based on the graph, there seems to be a general trend that wines with higher alcohol content have a higher quality rating. Although there is also a trend of some wines with relatively low alcohol content still receiving higher ratings. This data reveals that the majority of medium quality wines have a high alcohol volume and suggests the possible existence of other factors at play that may compensate for lower alcohol content among the higher ratings, such as flavor balance, complexity, among others. "
   ]
  },
  {
   "cell_type": "markdown",
   "metadata": {},
   "source": [
    "## Data modeling\n",
    "\n",
    "Next we will perform our Machine Learning experiment. We will build several predictive models that can infer wine quality based on wine characteristics. \n",
    "\n",
    "To achieve this, we will use three machine learning algorithms: Logistic Regression, XGB Classifier and SVC (Support Vector Classifier).\n",
    "\n",
    "After training our models, we will test their inference, i.e. how they predict wine quality based on the given characteristics. This will allow us to evaluate the accuracy of our models and their usefulness in predicting wine quality."
   ]
  },
  {
   "cell_type": "markdown",
   "metadata": {},
   "source": [
    "Comenzaremos filtrando y creando una nueva característica para los vinos de calidad media a alta, la cual utilizaremos en nuestro experimento"
   ]
  },
  {
   "cell_type": "code",
   "execution_count": 15,
   "metadata": {},
   "outputs": [],
   "source": [
    "df['best quality'] = [1 if x > 5 else 0 for x in df.quality]"
   ]
  },
  {
   "cell_type": "markdown",
   "metadata": {},
   "source": [
    "We separate the data set for training and prediction, and take the opportunity to separate the key characteristic and the target variable."
   ]
  },
  {
   "cell_type": "code",
   "execution_count": 16,
   "metadata": {},
   "outputs": [
    {
     "name": "stdout",
     "output_type": "stream",
     "text": [
      "Conjunto de entrenamiento:  (5197, 12) \n",
      "Conjunto de prueba:  (1300, 12)\n"
     ]
    }
   ],
   "source": [
    "features = df.drop([ 'quality', 'best quality'], axis=1)\n",
    "target = df['best quality']\n",
    "\n",
    "xtrain, xtest, ytrain, ytest = train_test_split(features, target, test_size=0.2, random_state=20)\n",
    "\n",
    "print(f'Training set: ',xtrain.shape, '\\nTest set: ', xtest.shape)"
   ]
  },
  {
   "cell_type": "markdown",
   "metadata": {},
   "source": [
    "Next, we call the MinMaxSclaer object and apply it on our training and test sets."
   ]
  },
  {
   "cell_type": "code",
   "execution_count": 47,
   "metadata": {},
   "outputs": [],
   "source": [
    "norm = MinMaxScaler()\n",
    "\n",
    "xtrain = norm.fit_transform(xtrain)\n",
    "xtest = norm.transform(xtest)"
   ]
  },
  {
   "cell_type": "markdown",
   "metadata": {},
   "source": [
    "### - Logistic Regression\n",
    "\n",
    "It is a classification algorithm that is suitable for binary classification problems. It is fast, easy to implement and provides a good baseline for our problem."
   ]
  },
  {
   "cell_type": "code",
   "execution_count": 51,
   "metadata": {},
   "outputs": [
    {
     "name": "stdout",
     "output_type": "stream",
     "text": [
      "Training Accuracy :  0.7019796736361694\n",
      "Validation Accuracy :  0.7250192258395284\n"
     ]
    }
   ],
   "source": [
    "logistic_model = LogisticRegression()\n",
    "\n",
    "logistic_model.fit(xtrain, ytrain)\n",
    "\n",
    "ypred = logistic_model.predict(xtest)\n",
    "\n",
    "print('Training Accuracy : ', metrics.roc_auc_score(ytrain, logistic_model.predict(xtrain)))\n",
    "print('Validation Accuracy : ', metrics.roc_auc_score(ytest, logistic_model.predict(xtest)))"
   ]
  },
  {
   "cell_type": "markdown",
   "metadata": {},
   "source": [
    "### - Extreme Gradient Boosting\n",
    "\n",
    "XGB is a boosting algorithm that builds multiple weak models sequentially, with each model learning and improving from the mistakes of the previous one. On the plus side, it stands out for its efficiency and performance."
   ]
  },
  {
   "cell_type": "code",
   "execution_count": 52,
   "metadata": {},
   "outputs": [
    {
     "name": "stdout",
     "output_type": "stream",
     "text": [
      "Training Accuracy: 0.9798659603269559\n",
      "Validation Accuracy: 0.8120610099974366\n"
     ]
    }
   ],
   "source": [
    "xgb_model = XGBClassifier()\n",
    "\n",
    "xgb_model.fit(xtrain, ytrain)\n",
    "\n",
    "print('Training Accuracy:', metrics.roc_auc_score(ytrain, xgb_model.predict(xtrain)))\n",
    "print('Validation Accuracy:', metrics.roc_auc_score(ytest, xgb_model.predict(xtest)))"
   ]
  },
  {
   "cell_type": "markdown",
   "metadata": {},
   "source": [
    "### - Support Vector Classifier \n",
    "\n",
    "SVC is an algorithm based on the idea of finding the hyperplane that best divides the data set into classes. It is effective in high dimensional spaces and is versatile as it allows different kernel functions for the decision function."
   ]
  },
  {
   "cell_type": "code",
   "execution_count": 53,
   "metadata": {},
   "outputs": [
    {
     "name": "stdout",
     "output_type": "stream",
     "text": [
      "Training Accuracy: 0.7233713398333647\n",
      "Validation Accuracy: 0.7422071263778518\n"
     ]
    }
   ],
   "source": [
    "svc_model = SVC(kernel='rbf')\n",
    "\n",
    "svc_model.fit(xtrain, ytrain)\n",
    "\n",
    "print('Training Accuracy:', metrics.roc_auc_score(ytrain, svc_model.predict(xtrain)))\n",
    "print('Validation Accuracy:', metrics.roc_auc_score(ytest, svc_model.predict(xtest)))"
   ]
  },
  {
   "cell_type": "markdown",
   "metadata": {},
   "source": [
    "## Conclusions\n",
    "\n",
    "With this, we have reached the end of this notebook. \n",
    "\n",
    "Let's review the results obtained by our models and the data we have:\n",
    "\n",
    "- **Logistic Regression:**\n",
    "\n",
    "    The training and validation accuracies are quite similar (70.27% and 70.12%), which is a good sign that the model is not overfitted. However, the accuracy is not very high, which might indicate that this model is too simple to capture the complexity of the working data.\n",
    "\n",
    "- **XGBoost:**\n",
    "\n",
    "    This model has a very high training accuracy (98.13%), but the validation accuracy is significantly lower (81.32%). Although the model looks promising, it may not generalize well to new data.\n",
    "\n",
    "- **Support Vector Classifier (SVC):**\n",
    "\n",
    "    As with logistic regression, training and validation accuracy are quite similar (72.04% and 71.12% respectively). However, as with logistic regression, the accuracy is not very high.\n",
    "\n",
    "I believe that these are acceptable results for a first analysis, which could translate into a feasibility for the development of more advanced or refined models to adjust inference.\n",
    "\n",
    "Before concluding, I think it is important to remember that wine quality can be subjective and vary according to each person's palate. In addition, other factors can affect the experience, such as food pairing and personal preferences, which can also influence the perception of wine quality.\n",
    "\n",
    "I hope you have found the information and analysis presented here useful.\n",
    "\n",
    "Thank you for joining me on this winemaking journey! \n",
    "\n",
    "#### I invite you to rate the work, comment on it and review other Notebooks in my Portfolio.\n",
    "\n",
    "[Web](https://pdroruiz.com/) - [GitHub](https://github.com/pdro-ruiz) - [Kaggle](https://www.kaggle.com/pdroruiz) - [Linkedin](https://www.linkedin.com/in/)\n",
    "\n",
    "See you next time!     👋"
   ]
  },
  {
   "cell_type": "markdown",
   "metadata": {},
   "source": []
  }
 ],
 "metadata": {
  "kernelspec": {
   "display_name": "base",
   "language": "python",
   "name": "python3"
  },
  "language_info": {
   "codemirror_mode": {
    "name": "ipython",
    "version": 3
   },
   "file_extension": ".py",
   "mimetype": "text/x-python",
   "name": "python",
   "nbconvert_exporter": "python",
   "pygments_lexer": "ipython3",
   "version": "3.11.5"
  }
 },
 "nbformat": 4,
 "nbformat_minor": 2
}
